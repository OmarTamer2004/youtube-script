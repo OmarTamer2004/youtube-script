{
 "cells": [
  {
   "cell_type": "code",
   "execution_count": null,
   "id": "55745254-874a-40f2-a2f5-b4213738042e",
   "metadata": {},
   "outputs": [],
   "source": [
    "from yt_dlp import YoutubeDL\n",
    "import os\n",
    "\n",
    "# Set your playlist URL and path to exhttps:/ported cookies\n",
    "playlist_url ='play list link '\n",
    "download_folder = 'downloaded_videos'\n",
    "cookies_path = 'path/to/cookies.txt'  # Replace this with your actual path\n",
    "\n",
    "# Create download folder if it doesn't exist\n",
    "os.makedirs(download_folder, exist_ok=True)\n",
    "\n",
    "# Download options: Progressive MP4 with both video and audio (no ffmpeg required)\n",
    "ydl_opts = {\n",
    "    'format': 'best[ext=mp4][height<=720][vcodec^=avc1][acodec^=mp4a]',\n",
    "    'outtmpl': os.path.join(download_folder, '%(playlist_index)03d - %(title)s.%(ext)s'),\n",
    "    'ignoreerrors': True,\n",
    "    'noplaylist': False,\n",
    "    'quiet': False,\n",
    "    'no_warnings': True,\n",
    "    'cookies': cookies_path,\n",
    "}\n",
    "\n",
    "# Start download\n",
    "with YoutubeDL(ydl_opts) as ydl:\n",
    "    ydl.download([playlist_url])\n"
   ]
  }
 ],
 "metadata": {
  "kernelspec": {
   "display_name": "Python [conda env:base] *",
   "language": "python",
   "name": "conda-base-py"
  },
  "language_info": {
   "codemirror_mode": {
    "name": "ipython",
    "version": 3
   },
   "file_extension": ".py",
   "mimetype": "text/x-python",
   "name": "python",
   "nbconvert_exporter": "python",
   "pygments_lexer": "ipython3",
   "version": "3.12.7"
  }
 },
 "nbformat": 4,
 "nbformat_minor": 5
}
